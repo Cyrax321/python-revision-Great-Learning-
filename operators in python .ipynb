{
 "cells": [
  {
   "cell_type": "code",
   "execution_count": 5,
   "id": "e8e875ca-0bed-411a-a7e0-fbbbe85b537b",
   "metadata": {},
   "outputs": [],
   "source": [
    "a = 10\n",
    "b = 20"
   ]
  },
  {
   "cell_type": "code",
   "execution_count": null,
   "id": "2ccd893e-5d8c-43e5-ab9e-609d085865ba",
   "metadata": {},
   "outputs": [],
   "source": [
    "# +,-,*,/"
   ]
  },
  {
   "cell_type": "code",
   "execution_count": 7,
   "id": "47773b4c-9b5d-406c-9352-83e2eda4de53",
   "metadata": {},
   "outputs": [
    {
     "data": {
      "text/plain": [
       "30"
      ]
     },
     "execution_count": 7,
     "metadata": {},
     "output_type": "execute_result"
    }
   ],
   "source": [
    "#add\n",
    "a+b"
   ]
  },
  {
   "cell_type": "code",
   "execution_count": 8,
   "id": "e2ea62e2-5ed4-4c83-a033-ac9f737081e0",
   "metadata": {},
   "outputs": [
    {
     "data": {
      "text/plain": [
       "10"
      ]
     },
     "execution_count": 8,
     "metadata": {},
     "output_type": "execute_result"
    }
   ],
   "source": [
    "b-a"
   ]
  },
  {
   "cell_type": "code",
   "execution_count": 9,
   "id": "7d50c7e2-46c9-448a-8bd7-afb1269d4946",
   "metadata": {
    "scrolled": true
   },
   "outputs": [
    {
     "data": {
      "text/plain": [
       "-10"
      ]
     },
     "execution_count": 9,
     "metadata": {},
     "output_type": "execute_result"
    }
   ],
   "source": [
    "a-b"
   ]
  },
  {
   "cell_type": "code",
   "execution_count": 10,
   "id": "e9eb2dd9-9a8b-4645-ae58-23933dd65ef0",
   "metadata": {},
   "outputs": [
    {
     "data": {
      "text/plain": [
       "2.0"
      ]
     },
     "execution_count": 10,
     "metadata": {},
     "output_type": "execute_result"
    }
   ],
   "source": [
    "b/a"
   ]
  },
  {
   "cell_type": "code",
   "execution_count": 11,
   "id": "87230d35-4c69-43a8-a096-b9582ca08a68",
   "metadata": {},
   "outputs": [
    {
     "data": {
      "text/plain": [
       "200"
      ]
     },
     "execution_count": 11,
     "metadata": {},
     "output_type": "execute_result"
    }
   ],
   "source": [
    "a*b"
   ]
  },
  {
   "cell_type": "code",
   "execution_count": 14,
   "id": "8bb3d5fc-4ff0-4c63-a4e3-82aa97d35a6d",
   "metadata": {},
   "outputs": [],
   "source": [
    "#relational operators <,>,==,!="
   ]
  },
  {
   "cell_type": "code",
   "execution_count": 15,
   "id": "10077aa5-35ea-43d1-a526-e4e6d90907ab",
   "metadata": {},
   "outputs": [
    {
     "data": {
      "text/plain": [
       "True"
      ]
     },
     "execution_count": 15,
     "metadata": {},
     "output_type": "execute_result"
    }
   ],
   "source": [
    "a<b"
   ]
  },
  {
   "cell_type": "code",
   "execution_count": 16,
   "id": "9c5f728a-cf8a-43ac-bb0a-6d19e8ee5682",
   "metadata": {},
   "outputs": [
    {
     "data": {
      "text/plain": [
       "False"
      ]
     },
     "execution_count": 16,
     "metadata": {},
     "output_type": "execute_result"
    }
   ],
   "source": [
    "a>b"
   ]
  },
  {
   "cell_type": "code",
   "execution_count": 17,
   "id": "d5c5b235-982c-4d84-aea9-ad08ec62f888",
   "metadata": {},
   "outputs": [
    {
     "data": {
      "text/plain": [
       "False"
      ]
     },
     "execution_count": 17,
     "metadata": {},
     "output_type": "execute_result"
    }
   ],
   "source": [
    "a==b"
   ]
  },
  {
   "cell_type": "code",
   "execution_count": 18,
   "id": "5b91077e-e42e-465b-83b2-202dce94f7b5",
   "metadata": {},
   "outputs": [
    {
     "data": {
      "text/plain": [
       "True"
      ]
     },
     "execution_count": 18,
     "metadata": {},
     "output_type": "execute_result"
    }
   ],
   "source": [
    "a!=b\n"
   ]
  },
  {
   "cell_type": "code",
   "execution_count": 19,
   "id": "52e7f23b-fad6-4ee4-9512-07114db1656d",
   "metadata": {},
   "outputs": [],
   "source": [
    "#Logical operators & |"
   ]
  },
  {
   "cell_type": "code",
   "execution_count": 20,
   "id": "dcf53136-0ad6-4b2c-9adf-6c1c20049899",
   "metadata": {},
   "outputs": [],
   "source": [
    "# &- both true = true , both false = false"
   ]
  },
  {
   "cell_type": "code",
   "execution_count": 21,
   "id": "a3a13e85-8d9a-4115-9f97-28f2e5ffc146",
   "metadata": {},
   "outputs": [],
   "source": [
    "a= True \n",
    "b= False"
   ]
  },
  {
   "cell_type": "code",
   "execution_count": 22,
   "id": "91964826-847d-4e10-a40d-98a56ae7d21b",
   "metadata": {},
   "outputs": [
    {
     "data": {
      "text/plain": [
       "False"
      ]
     },
     "execution_count": 22,
     "metadata": {},
     "output_type": "execute_result"
    }
   ],
   "source": [
    "a & b"
   ]
  },
  {
   "cell_type": "code",
   "execution_count": 23,
   "id": "8f167d56-e792-45aa-86e8-9aa531b4a68a",
   "metadata": {},
   "outputs": [
    {
     "data": {
      "text/plain": [
       "False"
      ]
     },
     "execution_count": 23,
     "metadata": {},
     "output_type": "execute_result"
    }
   ],
   "source": [
    "b & a "
   ]
  },
  {
   "cell_type": "code",
   "execution_count": 24,
   "id": "d07a320f-964d-4026-b29f-1850cdc01612",
   "metadata": {},
   "outputs": [
    {
     "data": {
      "text/plain": [
       "False"
      ]
     },
     "execution_count": 24,
     "metadata": {},
     "output_type": "execute_result"
    }
   ],
   "source": [
    "b & b\n"
   ]
  },
  {
   "cell_type": "code",
   "execution_count": 25,
   "id": "182a7d4d-2544-490c-ac01-f4d7ce52b257",
   "metadata": {},
   "outputs": [
    {
     "data": {
      "text/plain": [
       "True"
      ]
     },
     "execution_count": 25,
     "metadata": {},
     "output_type": "execute_result"
    }
   ],
   "source": [
    "a & a"
   ]
  },
  {
   "cell_type": "code",
   "execution_count": null,
   "id": "129411a8-d7df-4358-92df-86310e4ad3f9",
   "metadata": {},
   "outputs": [],
   "source": [
    "# |"
   ]
  }
 ],
 "metadata": {
  "kernelspec": {
   "display_name": "Python 3 (ipykernel)",
   "language": "python",
   "name": "python3"
  },
  "language_info": {
   "codemirror_mode": {
    "name": "ipython",
    "version": 3
   },
   "file_extension": ".py",
   "mimetype": "text/x-python",
   "name": "python",
   "nbconvert_exporter": "python",
   "pygments_lexer": "ipython3",
   "version": "3.10.16"
  }
 },
 "nbformat": 4,
 "nbformat_minor": 5
}
